{
 "cells": [
  {
   "cell_type": "code",
   "execution_count": 2,
   "metadata": {
    "collapsed": true
   },
   "outputs": [],
   "source": [
    "class MySuperHero(object):\n",
    "    pass"
   ]
  },
  {
   "cell_type": "markdown",
   "metadata": {},
   "source": [
    "Key Points:\n",
    "* class is the keyword to start the class definition block\n",
    "* class name comes next and is always camel case\n",
    "* (object) explicitly extends object.  This is not required in Python 3"
   ]
  },
  {
   "cell_type": "code",
   "execution_count": 3,
   "metadata": {
    "collapsed": true
   },
   "outputs": [],
   "source": [
    "super_hero = MySuperHero()"
   ]
  },
  {
   "cell_type": "code",
   "execution_count": 4,
   "metadata": {
    "collapsed": false
   },
   "outputs": [
    {
     "data": {
      "text/plain": [
       "__main__.MySuperHero"
      ]
     },
     "execution_count": 4,
     "metadata": {},
     "output_type": "execute_result"
    }
   ],
   "source": [
    "type(super_hero) #nice to see that we have the correct type of object"
   ]
  },
  {
   "cell_type": "code",
   "execution_count": 5,
   "metadata": {
    "collapsed": true
   },
   "outputs": [],
   "source": [
    "class MySuperHero: #taking out object extend\n",
    "    name = \"Generic Superhero\"\n",
    "    power = \"Flight\"\n",
    "    weakness = \"Spoons\""
   ]
  },
  {
   "cell_type": "markdown",
   "metadata": {},
   "source": [
    "## Playing with attributes\n",
    "Python doesn't do setters and getters by default"
   ]
  },
  {
   "cell_type": "code",
   "execution_count": 6,
   "metadata": {
    "collapsed": false
   },
   "outputs": [
    {
     "name": "stdout",
     "output_type": "stream",
     "text": [
      "Generic Superhero\n"
     ]
    }
   ],
   "source": [
    "super_hero = MySuperHero()\n",
    "print(super_hero.name)"
   ]
  },
  {
   "cell_type": "code",
   "execution_count": 7,
   "metadata": {
    "collapsed": true
   },
   "outputs": [],
   "source": [
    "super_hero.name = \"Generic Superhero 1\""
   ]
  },
  {
   "cell_type": "code",
   "execution_count": 8,
   "metadata": {
    "collapsed": false
   },
   "outputs": [
    {
     "data": {
      "text/plain": [
       "'Generic Superhero 1'"
      ]
     },
     "execution_count": 8,
     "metadata": {},
     "output_type": "execute_result"
    }
   ],
   "source": [
    "super_hero.name"
   ]
  },
  {
   "cell_type": "code",
   "execution_count": 9,
   "metadata": {
    "collapsed": true
   },
   "outputs": [],
   "source": [
    "super_hero.alter_ego = \"Billy the Janitor\" #Attributes can be created on the fly"
   ]
  },
  {
   "cell_type": "code",
   "execution_count": 10,
   "metadata": {
    "collapsed": false
   },
   "outputs": [
    {
     "data": {
      "text/plain": [
       "'Billy the Janitor'"
      ]
     },
     "execution_count": 10,
     "metadata": {},
     "output_type": "execute_result"
    }
   ],
   "source": [
    "super_hero.alter_ego"
   ]
  },
  {
   "cell_type": "markdown",
   "metadata": {},
   "source": [
    "## Methods"
   ]
  },
  {
   "cell_type": "code",
   "execution_count": 22,
   "metadata": {
    "collapsed": true
   },
   "outputs": [],
   "source": [
    "class MySuperHero:\n",
    "    \n",
    "    name = \"Generic Superhero\"\n",
    "    power = \"Flight\"\n",
    "    weakness = \"Spoons\"\n",
    "    \n",
    "    def yell_superpower(self):\n",
    "        print(self.power+\"!!!!!!!!!\")"
   ]
  },
  {
   "cell_type": "markdown",
   "metadata": {},
   "source": [
    "`self` throws people off for a bit.  This is a reference to the instance of the object and all object methods in it.  While you need it in the method declaration you don't pass it.  For all variables that you need at the object level make sure you add to self."
   ]
  },
  {
   "cell_type": "code",
   "execution_count": 23,
   "metadata": {
    "collapsed": false,
    "scrolled": true
   },
   "outputs": [
    {
     "name": "stdout",
     "output_type": "stream",
     "text": [
      "Flight!!!!!!!!!\n"
     ]
    }
   ],
   "source": [
    "super_hero = MySuperHero()\n",
    "\n",
    "# notice how we don't have to pass the self argument.  \n",
    "# Python does this automatically when a method is called on an instance\n",
    "super_hero.yell_superpower()"
   ]
  },
  {
   "cell_type": "markdown",
   "metadata": {},
   "source": [
    "## Construction\n",
    "\n",
    "`__init__()` is how we create a constructor.  It is one of many magic methods but we will talk about those in just a bit.\n",
    "\n",
    "Construtors are more pythonic than hard coded attributes"
   ]
  },
  {
   "cell_type": "code",
   "execution_count": 24,
   "metadata": {
    "collapsed": true
   },
   "outputs": [],
   "source": [
    "class MySuperHero:\n",
    "    \n",
    "    def __init__(self, name, power, weakness):\n",
    "        \"\"\"\n",
    "        init is called by python as part of the chain of methods called in an object creation\n",
    "        \"\"\"\n",
    "        self.name = name\n",
    "        self.power = power\n",
    "        self.weakness = weakness\n",
    "        \n",
    "    def yell_superpower(self):\n",
    "        print(self.power+\"!!!!!!!!!\")"
   ]
  },
  {
   "cell_type": "code",
   "execution_count": 25,
   "metadata": {
    "collapsed": false
   },
   "outputs": [],
   "source": [
    "\n",
    "super_hero = MySuperHero(\"Generic superhero 2\", \"flight\", \"sporks\") "
   ]
  },
  {
   "cell_type": "code",
   "execution_count": 26,
   "metadata": {
    "collapsed": false
   },
   "outputs": [
    {
     "data": {
      "text/plain": [
       "'sporks'"
      ]
     },
     "execution_count": 26,
     "metadata": {},
     "output_type": "execute_result"
    }
   ],
   "source": [
    "super_hero.weakness"
   ]
  },
  {
   "cell_type": "markdown",
   "metadata": {},
   "source": [
    "## Magic Methods\n",
    "\n",
    "The super class object gives us a huge variety of methods like `__init__`.  They let you control most aspects of how python interacts with your class."
   ]
  },
  {
   "cell_type": "code",
   "execution_count": 46,
   "metadata": {
    "collapsed": false
   },
   "outputs": [
    {
     "data": {
      "text/plain": [
       "['__add__',\n",
       " '__class__',\n",
       " '__delattr__',\n",
       " '__dict__',\n",
       " '__dir__',\n",
       " '__doc__',\n",
       " '__eq__',\n",
       " '__format__',\n",
       " '__ge__',\n",
       " '__getattribute__',\n",
       " '__gt__',\n",
       " '__hash__',\n",
       " '__init__',\n",
       " '__le__',\n",
       " '__lt__',\n",
       " '__module__',\n",
       " '__ne__',\n",
       " '__new__',\n",
       " '__reduce__',\n",
       " '__reduce_ex__',\n",
       " '__repr__',\n",
       " '__setattr__',\n",
       " '__sizeof__',\n",
       " '__str__',\n",
       " '__subclasshook__',\n",
       " '__weakref__',\n",
       " 'name',\n",
       " 'power',\n",
       " 'weakness',\n",
       " 'yell_superpower']"
      ]
     },
     "execution_count": 46,
     "metadata": {},
     "output_type": "execute_result"
    }
   ],
   "source": [
    "dir(super_hero)"
   ]
  },
  {
   "cell_type": "markdown",
   "metadata": {},
   "source": [
    "`__str__` is one of the most widly used.  It simply tells python how you want your object will be converted to string since the default is much less helpful"
   ]
  },
  {
   "cell_type": "code",
   "execution_count": 27,
   "metadata": {
    "collapsed": false
   },
   "outputs": [
    {
     "name": "stdout",
     "output_type": "stream",
     "text": [
      "<__main__.MySuperHero object at 0x10c8e42e8>\n"
     ]
    }
   ],
   "source": [
    "print(super_hero)"
   ]
  },
  {
   "cell_type": "code",
   "execution_count": 28,
   "metadata": {
    "collapsed": true
   },
   "outputs": [],
   "source": [
    "class MySuperHero:\n",
    "    \n",
    "    def __init__(self, name, power, weakness):\n",
    "        \"\"\"\n",
    "        init is called by python as part of the chain of methods called in an object creation\n",
    "        \"\"\"\n",
    "        self.name = name\n",
    "        self.power = power\n",
    "        self.weakness = weakness\n",
    "        \n",
    "    def yell_superpower(self):\n",
    "        print(self.power+\"!!!!!!!!!\")\n",
    "        \n",
    "    def __str__(self):\n",
    "        return \"Name: {} Power: {} Weakness: {}\".format(self.name, self.power, self.weakness)"
   ]
  },
  {
   "cell_type": "code",
   "execution_count": 30,
   "metadata": {
    "collapsed": false
   },
   "outputs": [
    {
     "name": "stdout",
     "output_type": "stream",
     "text": [
      "Name: Generic superhero 2 Power: flight Weakness: sporks\n"
     ]
    }
   ],
   "source": [
    "super_hero = MySuperHero(\"Generic superhero 2\", \"flight\", \"sporks\")\n",
    "print(super_hero)"
   ]
  },
  {
   "cell_type": "markdown",
   "metadata": {},
   "source": [
    "### More magic - Math\n",
    "\n",
    "Want to control how your classes will interact with a +?"
   ]
  },
  {
   "cell_type": "code",
   "execution_count": 34,
   "metadata": {
    "collapsed": true
   },
   "outputs": [],
   "source": [
    "class MySuperHero:\n",
    "    \n",
    "    def __init__(self, name, power, weakness):\n",
    "        \"\"\"\n",
    "        init is called by python as part of the chain of methods called in an object creation\n",
    "        \"\"\"\n",
    "        self.name = name\n",
    "        self.power = power\n",
    "        self.weakness = weakness\n",
    "        \n",
    "    def yell_superpower(self):\n",
    "        print(self.power+\"!!!!!!!!!\")\n",
    "        \n",
    "    def __str__(self):\n",
    "        return \"Name: {} Power: {} Weakness: {}\".format(self.name, self.power, self.weakness)\n",
    "    \n",
    "    def __add__(self, other):\n",
    "        return \"Fusion of superheros not available\""
   ]
  },
  {
   "cell_type": "code",
   "execution_count": 35,
   "metadata": {
    "collapsed": true
   },
   "outputs": [],
   "source": [
    "super_hero = MySuperHero(\"Generic superhero 2\", \"flight\", \"sporks\")"
   ]
  },
  {
   "cell_type": "code",
   "execution_count": 36,
   "metadata": {
    "collapsed": false
   },
   "outputs": [
    {
     "name": "stdout",
     "output_type": "stream",
     "text": [
      "Fusion of superheros not available\n"
     ]
    }
   ],
   "source": [
    "print(super_hero + super_hero)"
   ]
  },
  {
   "cell_type": "markdown",
   "metadata": {},
   "source": [
    "### Even More - Comparisons\n",
    "\n",
    "All major comparisons are available to override and control exactly how the class will evaluate"
   ]
  },
  {
   "cell_type": "code",
   "execution_count": 42,
   "metadata": {
    "collapsed": true
   },
   "outputs": [],
   "source": [
    "class MySuperHero:\n",
    "    \n",
    "    def __init__(self, name, power, weakness):\n",
    "        \"\"\"\n",
    "        init is called by python as part of the chain of methods called in an object creation\n",
    "        \"\"\"\n",
    "        self.name = name\n",
    "        self.power = power\n",
    "        self.weakness = weakness\n",
    "        \n",
    "    def yell_superpower(self):\n",
    "        print(self.power+\"!!!!!!!!!\")\n",
    "        \n",
    "    def __str__(self):\n",
    "        return \"Name: {} Power: {} Weakness: {}\".format(self.name, self.power, self.weakness)\n",
    "    \n",
    "    def __add__(self, other):\n",
    "        return \"Fusion of superheros not available\"\n",
    "    \n",
    "    def __gt__(self, other):\n",
    "        return self.name < other.name"
   ]
  },
  {
   "cell_type": "code",
   "execution_count": 43,
   "metadata": {
    "collapsed": true
   },
   "outputs": [],
   "source": [
    "super_hero = MySuperHero(\"Generic superhero 1\", \"flight\", \"sporks\")"
   ]
  },
  {
   "cell_type": "code",
   "execution_count": 44,
   "metadata": {
    "collapsed": true
   },
   "outputs": [],
   "source": [
    "super_hero2 = MySuperHero(\"Generic superhero 2\", \"strength\", \"dryer lint\")"
   ]
  },
  {
   "cell_type": "code",
   "execution_count": 45,
   "metadata": {
    "collapsed": false,
    "scrolled": true
   },
   "outputs": [
    {
     "data": {
      "text/plain": [
       "True"
      ]
     },
     "execution_count": 45,
     "metadata": {},
     "output_type": "execute_result"
    }
   ],
   "source": [
    "super_hero > super_hero2"
   ]
  },
  {
   "cell_type": "markdown",
   "metadata": {},
   "source": [
    "## @property\n",
    "\n",
    "Sometimes you need a read only property or logic to determine the value of a property"
   ]
  },
  {
   "cell_type": "code",
   "execution_count": 68,
   "metadata": {
    "collapsed": true
   },
   "outputs": [],
   "source": [
    "class MySuperHero:\n",
    "    \n",
    "    def __init__(self, name, power, weakness, power_class=1):\n",
    "        \"\"\"\n",
    "        init is called by python as part of the chain of methods called in an object creation\n",
    "        \"\"\"\n",
    "        self.name = name\n",
    "        self.power = power\n",
    "        self.weakness = weakness\n",
    "        self.power_class = power_class\n",
    "        \n",
    "    @property\n",
    "    def powerful(self):\n",
    "        if self.power_class > 3:\n",
    "            return True\n",
    "        else:\n",
    "            return False\n",
    "        \n",
    "    def yell_superpower(self):\n",
    "        print(self.power+\"!!!!!!!!!\")\n",
    "        \n",
    "    def __str__(self):\n",
    "        return \"Name: {} Power: {} Weakness: {}\".format(self.name, self.power, self.weakness)\n",
    "        "
   ]
  },
  {
   "cell_type": "code",
   "execution_count": 69,
   "metadata": {
    "collapsed": false
   },
   "outputs": [],
   "source": [
    "super_hero = MySuperHero(\"Generic superhero 2\", \"flight\", \"dryer lint\", 5)"
   ]
  },
  {
   "cell_type": "code",
   "execution_count": 70,
   "metadata": {
    "collapsed": false
   },
   "outputs": [
    {
     "name": "stdout",
     "output_type": "stream",
     "text": [
      "Name: Generic superhero 2 Power: flight Weakness: dryer lint\n"
     ]
    }
   ],
   "source": [
    "print(super_hero)"
   ]
  },
  {
   "cell_type": "code",
   "execution_count": 71,
   "metadata": {
    "collapsed": false
   },
   "outputs": [
    {
     "data": {
      "text/plain": [
       "True"
      ]
     },
     "execution_count": 71,
     "metadata": {},
     "output_type": "execute_result"
    }
   ],
   "source": [
    "super_hero.powerful"
   ]
  },
  {
   "cell_type": "markdown",
   "metadata": {},
   "source": [
    "Notice how we access it like a property even though it is a method"
   ]
  },
  {
   "cell_type": "code",
   "execution_count": 72,
   "metadata": {
    "collapsed": false,
    "scrolled": true
   },
   "outputs": [
    {
     "ename": "AttributeError",
     "evalue": "can't set attribute",
     "output_type": "error",
     "traceback": [
      "\u001b[0;31m---------------------------------------------------------------------------\u001b[0m",
      "\u001b[0;31mAttributeError\u001b[0m                            Traceback (most recent call last)",
      "\u001b[0;32m<ipython-input-72-81b2e4bc3f95>\u001b[0m in \u001b[0;36m<module>\u001b[0;34m()\u001b[0m\n\u001b[0;32m----> 1\u001b[0;31m \u001b[0msuper_hero\u001b[0m\u001b[0;34m.\u001b[0m\u001b[0mpowerful\u001b[0m \u001b[0;34m=\u001b[0m \u001b[0;32mTrue\u001b[0m\u001b[0;34m\u001b[0m\u001b[0m\n\u001b[0m",
      "\u001b[0;31mAttributeError\u001b[0m: can't set attribute"
     ]
    }
   ],
   "source": [
    "super_hero.powerful = True"
   ]
  },
  {
   "cell_type": "markdown",
   "metadata": {},
   "source": [
    "### The setter"
   ]
  },
  {
   "cell_type": "code",
   "execution_count": 79,
   "metadata": {
    "collapsed": true
   },
   "outputs": [],
   "source": [
    "class MySuperHero:\n",
    "    \n",
    "    def __init__(self, name, power, weakness, power_class=1):\n",
    "        \"\"\"\n",
    "        init is called by python as part of the chain of methods called in an object creation\n",
    "        \"\"\"\n",
    "        self.name = name\n",
    "        self.power = power\n",
    "        self.weakness = weakness\n",
    "        self.power_class = power_class\n",
    "        \n",
    "    @property\n",
    "    def powerful(self):\n",
    "        if self.power_class > 3:\n",
    "            return True\n",
    "        else:\n",
    "            return False\n",
    "        \n",
    "    @powerful.setter\n",
    "    def powerful(self, powerful):\n",
    "        if powerful:\n",
    "            self.power_class = 5\n",
    "        else:\n",
    "            self.power_class = 1\n",
    "        \n",
    "    def yell_superpower(self):\n",
    "        print(self.power+\"!!!!!!!!!\")\n",
    "        \n",
    "    def __str__(self):\n",
    "        return \"Name: {} Power: {} Weakness: {}\".format(self.name, self.power, self.weakness)\n",
    "        "
   ]
  },
  {
   "cell_type": "markdown",
   "metadata": {},
   "source": [
    "Make sure that both getter and setter are named the attribute.  yes this means you will have 2 functions with the same name but the decorator wraps them up so it is the way of python"
   ]
  },
  {
   "cell_type": "code",
   "execution_count": 80,
   "metadata": {
    "collapsed": true
   },
   "outputs": [],
   "source": [
    "super_hero = MySuperHero(\"Generic superhero 2\", \"flight\", \"dryer lint\", 5)"
   ]
  },
  {
   "cell_type": "code",
   "execution_count": 81,
   "metadata": {
    "collapsed": false,
    "scrolled": true
   },
   "outputs": [
    {
     "name": "stdout",
     "output_type": "stream",
     "text": [
      "True\n",
      "5\n"
     ]
    }
   ],
   "source": [
    "print(super_hero.powerful)\n",
    "print(super_hero.power_class)"
   ]
  },
  {
   "cell_type": "code",
   "execution_count": 82,
   "metadata": {
    "collapsed": false
   },
   "outputs": [
    {
     "name": "stdout",
     "output_type": "stream",
     "text": [
      "1\n"
     ]
    }
   ],
   "source": [
    "super_hero.powerful = False\n",
    "print(super_hero.power_class)"
   ]
  },
  {
   "cell_type": "markdown",
   "metadata": {},
   "source": [
    "## Inheritance \n",
    "\n",
    "Obviously there is inheritence"
   ]
  },
  {
   "cell_type": "code",
   "execution_count": 47,
   "metadata": {
    "collapsed": true
   },
   "outputs": [],
   "source": [
    "class PublicSuperHero(MySuperHero):\n",
    "    \n",
    "    def __init__(self, name, power, weakness, alter_ego):\n",
    "        super().__init__(name, power, weakness)\n",
    "        self.alter_ego = alter_ego"
   ]
  },
  {
   "cell_type": "markdown",
   "metadata": {},
   "source": [
    "`super()` allows access to the base class to initialize with variables.  Thus allowing extending.  We explicitly call the `__init__` method with the common arguments so we don't have to rewrite."
   ]
  },
  {
   "cell_type": "code",
   "execution_count": 48,
   "metadata": {
    "collapsed": true
   },
   "outputs": [],
   "source": [
    "public = PublicSuperHero(\"Generic superhero 1\", \"flight\", \"sporks\", \"Billy the Mechanic\")"
   ]
  },
  {
   "cell_type": "code",
   "execution_count": 50,
   "metadata": {
    "collapsed": false
   },
   "outputs": [
    {
     "data": {
      "text/plain": [
       "'Billy the Mechanic'"
      ]
     },
     "execution_count": 50,
     "metadata": {},
     "output_type": "execute_result"
    }
   ],
   "source": [
    "public.alter_ego"
   ]
  },
  {
   "cell_type": "code",
   "execution_count": 51,
   "metadata": {
    "collapsed": false
   },
   "outputs": [
    {
     "data": {
      "text/plain": [
       "'Generic superhero 1'"
      ]
     },
     "execution_count": 51,
     "metadata": {},
     "output_type": "execute_result"
    }
   ],
   "source": [
    "public.name"
   ]
  },
  {
   "cell_type": "code",
   "execution_count": 52,
   "metadata": {
    "collapsed": false
   },
   "outputs": [
    {
     "name": "stdout",
     "output_type": "stream",
     "text": [
      "flight!!!!!!!!!\n"
     ]
    }
   ],
   "source": [
    "public.yell_superpower()"
   ]
  },
  {
   "cell_type": "markdown",
   "metadata": {},
   "source": [
    "## Multiple Inheritance\n",
    "\n",
    "Can be very tricky.  The basic idea is left to right, depth first search.  If that is confusing just think it will start with the left and go up the tree then move up through classes before moving to the next parent.  Most code in python is really a main parent class and a mixin for extra functionality."
   ]
  },
  {
   "cell_type": "code",
   "execution_count": 94,
   "metadata": {
    "collapsed": true
   },
   "outputs": [],
   "source": [
    "class UniverseMixin:\n",
    "    \n",
    "    universe = \"DC\"\n",
    "    \n",
    "    def fight(self, other):\n",
    "        if self.universe == other.universe:\n",
    "            print(\"Fight!\")\n",
    "        else:\n",
    "            print(\"You are worlds apart\")"
   ]
  },
  {
   "cell_type": "code",
   "execution_count": 103,
   "metadata": {
    "collapsed": true
   },
   "outputs": [],
   "source": [
    "class PublicSuperHero(MySuperHero, UniverseMixin):\n",
    "    \n",
    "    def __init__(self, name, power, weakness, alter_ego, universe):\n",
    "        super().__init__(name, power, weakness)\n",
    "        self.alter_ego = alter_ego\n",
    "        self.universe = universe"
   ]
  },
  {
   "cell_type": "code",
   "execution_count": 104,
   "metadata": {
    "collapsed": false
   },
   "outputs": [],
   "source": [
    "superman = PublicSuperHero(\"Superman\", \"flight\", \"kryptonite\", \"Clark Kent\", \"DC\")"
   ]
  },
  {
   "cell_type": "code",
   "execution_count": 105,
   "metadata": {
    "collapsed": true
   },
   "outputs": [],
   "source": [
    "batman = PublicSuperHero(\"Batman\", \"rich\", \"childhood trauma\", \"Bruce Wayne\", \"DC\")"
   ]
  },
  {
   "cell_type": "code",
   "execution_count": 106,
   "metadata": {
    "collapsed": false
   },
   "outputs": [],
   "source": [
    "ironman = PublicSuperHero(\"IronMan\", \"super smarts\", \"narcissist\", \"Tony Stark\", \"Marvel\")"
   ]
  },
  {
   "cell_type": "code",
   "execution_count": 107,
   "metadata": {
    "collapsed": false
   },
   "outputs": [
    {
     "name": "stdout",
     "output_type": "stream",
     "text": [
      "Fight!\n"
     ]
    }
   ],
   "source": [
    "superman.fight(batman)"
   ]
  },
  {
   "cell_type": "code",
   "execution_count": 108,
   "metadata": {
    "collapsed": false
   },
   "outputs": [
    {
     "name": "stdout",
     "output_type": "stream",
     "text": [
      "You are worlds apart\n"
     ]
    }
   ],
   "source": [
    "superman.fight(ironman)"
   ]
  },
  {
   "cell_type": "code",
   "execution_count": 102,
   "metadata": {
    "collapsed": false
   },
   "outputs": [
    {
     "data": {
      "text/plain": [
       "'DC'"
      ]
     },
     "execution_count": 102,
     "metadata": {},
     "output_type": "execute_result"
    }
   ],
   "source": [
    "ironman.universe"
   ]
  },
  {
   "cell_type": "markdown",
   "metadata": {},
   "source": [
    "### Complications"
   ]
  },
  {
   "cell_type": "code",
   "execution_count": 113,
   "metadata": {
    "collapsed": true
   },
   "outputs": [],
   "source": [
    "class A:\n",
    "    def __init__(self):\n",
    "        print(\"I am class A init\")\n",
    "        \n",
    "class B:\n",
    "    def __init__(self):\n",
    "        print(\"I am class B init\")\n",
    "        \n",
    "class C(B, C):\n",
    "    def __init__(self):\n",
    "        print(\"Calling Super\")\n",
    "        super().__init__()"
   ]
  },
  {
   "cell_type": "code",
   "execution_count": 114,
   "metadata": {
    "collapsed": false
   },
   "outputs": [
    {
     "name": "stdout",
     "output_type": "stream",
     "text": [
      "Calling Super\n",
      "I am class B init\n"
     ]
    }
   ],
   "source": [
    "c = C()"
   ]
  },
  {
   "cell_type": "markdown",
   "metadata": {},
   "source": [
    "# Shhh - Privacy\n",
    "\n",
    "Unfortunately, like much of the real world privacy is but an illusion.  Nothing is really private in classes like Java.  There are no built in concepts like public and private."
   ]
  },
  {
   "cell_type": "code",
   "execution_count": 118,
   "metadata": {
    "collapsed": true
   },
   "outputs": [],
   "source": [
    "import uuid"
   ]
  },
  {
   "cell_type": "code",
   "execution_count": 126,
   "metadata": {
    "collapsed": false
   },
   "outputs": [],
   "source": [
    "class SuperHero:\n",
    "    _id = uuid.uuid1()\n",
    "    __id2 = uuid.uuid1()"
   ]
  },
  {
   "cell_type": "code",
   "execution_count": 127,
   "metadata": {
    "collapsed": true
   },
   "outputs": [],
   "source": [
    "sh = SuperHero()"
   ]
  },
  {
   "cell_type": "code",
   "execution_count": 128,
   "metadata": {
    "collapsed": false
   },
   "outputs": [
    {
     "data": {
      "text/plain": [
       "['_SuperHero__id2',\n",
       " '__class__',\n",
       " '__delattr__',\n",
       " '__dict__',\n",
       " '__dir__',\n",
       " '__doc__',\n",
       " '__eq__',\n",
       " '__format__',\n",
       " '__ge__',\n",
       " '__getattribute__',\n",
       " '__gt__',\n",
       " '__hash__',\n",
       " '__init__',\n",
       " '__le__',\n",
       " '__lt__',\n",
       " '__module__',\n",
       " '__ne__',\n",
       " '__new__',\n",
       " '__reduce__',\n",
       " '__reduce_ex__',\n",
       " '__repr__',\n",
       " '__setattr__',\n",
       " '__sizeof__',\n",
       " '__str__',\n",
       " '__subclasshook__',\n",
       " '__weakref__',\n",
       " '_id']"
      ]
     },
     "execution_count": 128,
     "metadata": {},
     "output_type": "execute_result"
    }
   ],
   "source": [
    "dir(sh)"
   ]
  },
  {
   "cell_type": "code",
   "execution_count": 129,
   "metadata": {
    "collapsed": false
   },
   "outputs": [
    {
     "data": {
      "text/plain": [
       "UUID('5bc3e11c-db46-11e5-93ad-b8e85638fa00')"
      ]
     },
     "execution_count": 129,
     "metadata": {},
     "output_type": "execute_result"
    }
   ],
   "source": [
    "sh._id"
   ]
  },
  {
   "cell_type": "code",
   "execution_count": 130,
   "metadata": {
    "collapsed": false
   },
   "outputs": [
    {
     "ename": "AttributeError",
     "evalue": "'SuperHero' object has no attribute '__id'",
     "output_type": "error",
     "traceback": [
      "\u001b[0;31m---------------------------------------------------------------------------\u001b[0m",
      "\u001b[0;31mAttributeError\u001b[0m                            Traceback (most recent call last)",
      "\u001b[0;32m<ipython-input-130-f7b666100018>\u001b[0m in \u001b[0;36m<module>\u001b[0;34m()\u001b[0m\n\u001b[0;32m----> 1\u001b[0;31m \u001b[0msh\u001b[0m\u001b[0;34m.\u001b[0m\u001b[0m__id\u001b[0m\u001b[0;34m\u001b[0m\u001b[0m\n\u001b[0m",
      "\u001b[0;31mAttributeError\u001b[0m: 'SuperHero' object has no attribute '__id'"
     ]
    }
   ],
   "source": [
    "sh.__id"
   ]
  },
  {
   "cell_type": "code",
   "execution_count": 131,
   "metadata": {
    "collapsed": false
   },
   "outputs": [
    {
     "data": {
      "text/plain": [
       "UUID('5bc6b18c-db46-11e5-be3f-b8e85638fa00')"
      ]
     },
     "execution_count": 131,
     "metadata": {},
     "output_type": "execute_result"
    }
   ],
   "source": [
    "sh._SuperHero__id2"
   ]
  },
  {
   "cell_type": "markdown",
   "metadata": {},
   "source": [
    "A leading _ is a convention that means that the variable should not be used directly.  There are no guarantees of its support going forward.\n",
    "\n",
    "2 leading _ will cause Python to mangle the name and change it to _CLASSNAME__<valible"
   ]
  },
  {
   "cell_type": "markdown",
   "metadata": {},
   "source": [
    "As you can they are accessible no matter what so convention is all we have."
   ]
  },
  {
   "cell_type": "markdown",
   "metadata": {},
   "source": [
    "### Class Overrides"
   ]
  },
  {
   "cell_type": "code",
   "execution_count": 132,
   "metadata": {
    "collapsed": true
   },
   "outputs": [],
   "source": [
    "class MySuperHero:\n",
    "    \n",
    "    def __init__(self, name, power, weakness, power_class=1):\n",
    "        \"\"\"\n",
    "        init is called by python as part of the chain of methods called in an object creation\n",
    "        \"\"\"\n",
    "        self.name = name\n",
    "        self.power = power\n",
    "        self.weakness = weakness\n",
    "        self.power_class = power_class\n",
    "        \n",
    "    @property\n",
    "    def powerful(self):\n",
    "        if self.power_class > 3:\n",
    "            return True\n",
    "        else:\n",
    "            return False\n",
    "        \n",
    "    @powerful.setter\n",
    "    def powerful(self, powerful):\n",
    "        if powerful:\n",
    "            self.power_class = 5\n",
    "        else:\n",
    "            self.power_class = 1\n",
    "        \n",
    "    def yell_superpower(self):\n",
    "        print(self.power+\"!!!!!!!!!\")\n",
    "        \n",
    "    def __str__(self):\n",
    "        return \"Name: {} Power: {} Weakness: {}\".format(self.name, self.power, self.weakness)"
   ]
  },
  {
   "cell_type": "code",
   "execution_count": 133,
   "metadata": {
    "collapsed": true
   },
   "outputs": [],
   "source": [
    "flash = MySuperHero(\"The Flash\", \"speed\", \"none\", 5)"
   ]
  },
  {
   "cell_type": "code",
   "execution_count": 135,
   "metadata": {
    "collapsed": false
   },
   "outputs": [
    {
     "name": "stdout",
     "output_type": "stream",
     "text": [
      "speed!!!!!!!!!\n"
     ]
    }
   ],
   "source": [
    "flash.yell_superpower()"
   ]
  },
  {
   "cell_type": "code",
   "execution_count": 136,
   "metadata": {
    "collapsed": true
   },
   "outputs": [],
   "source": [
    "MySuperHero.yell_name = lambda self: print(\"My name is {}\".format(self.name))"
   ]
  },
  {
   "cell_type": "code",
   "execution_count": 137,
   "metadata": {
    "collapsed": false
   },
   "outputs": [
    {
     "name": "stdout",
     "output_type": "stream",
     "text": [
      "My name is The Flash\n"
     ]
    }
   ],
   "source": [
    "flash.yell_name()"
   ]
  },
  {
   "cell_type": "code",
   "execution_count": 138,
   "metadata": {
    "collapsed": true
   },
   "outputs": [],
   "source": [
    "MySuperHero.yell_superpower = lambda self: print(\"HOOOOLLLLY MOLY\")"
   ]
  },
  {
   "cell_type": "code",
   "execution_count": 139,
   "metadata": {
    "collapsed": false
   },
   "outputs": [
    {
     "name": "stdout",
     "output_type": "stream",
     "text": [
      "HOOOOLLLLY MOLY\n"
     ]
    }
   ],
   "source": [
    "flash.yell_superpower()"
   ]
  },
  {
   "cell_type": "code",
   "execution_count": null,
   "metadata": {
    "collapsed": true
   },
   "outputs": [],
   "source": []
  }
 ],
 "metadata": {
  "kernelspec": {
   "display_name": "Python 3",
   "language": "python",
   "name": "python3"
  },
  "language_info": {
   "codemirror_mode": {
    "name": "ipython",
    "version": 3
   },
   "file_extension": ".py",
   "mimetype": "text/x-python",
   "name": "python",
   "nbconvert_exporter": "python",
   "pygments_lexer": "ipython3",
   "version": "3.5.1"
  }
 },
 "nbformat": 4,
 "nbformat_minor": 0
}
